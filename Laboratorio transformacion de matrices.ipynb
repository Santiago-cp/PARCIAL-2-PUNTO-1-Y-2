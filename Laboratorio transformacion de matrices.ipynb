{
 "cells": [
  {
   "cell_type": "code",
   "execution_count": 1,
   "id": "599fa36b-a2a0-4460-9a4d-5422335aeab5",
   "metadata": {},
   "outputs": [],
   "source": [
    "import streamlit as st\n",
    "import pandas as pd\n",
    "import numpy as np"
   ]
  },
  {
   "cell_type": "code",
   "execution_count": 2,
   "id": "748a5649-0934-4e58-9a8b-ccd588faf257",
   "metadata": {},
   "outputs": [],
   "source": [
    "horizontal_kernel = np.array([[-1, -1, -1],\n",
    "                              [ 2,  2,  2],\n",
    "                              [-1, -1, -1]])\n",
    "\n",
    "vertical_kernel = np.array([[-1,  2, -1],\n",
    "                            [-1,  2, -1],\n",
    "                            [-1,  2, -1]])\n",
    "\n",
    "def apply_convolution (matrix, kernel_type='horizontal'):\n",
    "    if kernel_type == 'horizontal':\n",
    "        kernel = np.array([[1, 1, 1], [0, 0, 0], [-1, -1, -1]])\n",
    "    elif kernel_type == 'vertical':\n",
    "        kernel = np.array([[1, 0, -1], [1, 0, -1], [1, 0, -1]])\n",
    "    else:\n",
    "        raise ValueError(\"El tipo de kernel debe ser 'horizontal' o 'vertical'\")\n",
    "    \n",
    "    rows, cols = matrix.shape\n",
    "    output = np.zeros((rows - 2, cols - 2))\n",
    "    \n",
    "    for i in range(1, rows - 1):\n",
    "        for j in range(1, cols - 1):\n",
    "            region = matrix[i-1:i+2, j-1:j+2]\n",
    "            output[i-1, j-1] = np.sum(region * kernel)\n",
    "    \n",
    "    return output\n"
   ]
  },
  {
   "cell_type": "code",
   "execution_count": 3,
   "id": "7dab993b-8aef-4307-95a9-fad96e60fbc1",
   "metadata": {},
   "outputs": [],
   "source": [
    "def add_padding(matrix, padding_size):\n",
    "    padded_matrix = np.pad(matrix, pad_width=padding_size, mode='constant', constant_values=0)\n",
    "    return padded_matrix\n",
    "\n"
   ]
  },
  {
   "cell_type": "code",
   "execution_count": 4,
   "id": "8c459b65-d571-46bb-81e4-c770ede7dc92",
   "metadata": {},
   "outputs": [],
   "source": [
    "def apply_stride_convolution(matrix, kernel_type='horizontal', stride=2):\n",
    "    convolved_matrix = apply_convolution(matrix, kernel_type)\n",
    "    result = convolved_matrix[::stride, ::stride]\n",
    "    return result\n",
    "\n"
   ]
  },
  {
   "cell_type": "code",
   "execution_count": 5,
   "id": "3746b81d-8403-46fa-861c-9f29d63a1e7b",
   "metadata": {},
   "outputs": [],
   "source": [
    "def generate_feature_maps(matrix, n):\n",
    "    feature_maps = []\n",
    "    for i in range(n):\n",
    "        if i % 2 == 0:\n",
    "            feature_map = apply_convolution(matrix, 'horizontal')\n",
    "        else:\n",
    "            feature_map = apply_convolution(matrix, 'vertical')\n",
    "        feature_maps.append(feature_map)\n",
    "    return np.stack(feature_maps, axis=-1)\n",
    "\n"
   ]
  },
  {
   "cell_type": "code",
   "execution_count": 6,
   "id": "1ad0edd2-cbe8-4abf-bb81-97d035a8ecea",
   "metadata": {},
   "outputs": [],
   "source": [
    "def max_pooling(matrix, stride=2):\n",
    "    output_shape = (matrix.shape[0] // stride, matrix.shape[1] // stride)\n",
    "    pooled_matrix = np.zeros(output_shape)\n",
    "    \n",
    "    for i in range(0, matrix.shape[0] - 1, stride):\n",
    "        for j in range(0, matrix.shape[1] - 1, stride):\n",
    "            pooled_matrix[i//stride, j//stride] = np.max(matrix[i:i+2, j:j+2])\n",
    "    \n",
    "    return pooled_matrix"
   ]
  },
  {
   "cell_type": "code",
   "execution_count": 9,
   "id": "3bbf958c-9145-4f05-b827-ad5dc8c13409",
   "metadata": {},
   "outputs": [],
   "source": [
    "data = pd.read_excel('C:/Users/totoy/Documents/UNIVERSIDAD/PYTHON/PARCIAL 2/PUNTO 1/pixeles.xlsx', header=None)\n",
    "matrix = data.values  # Convertir a una matriz NumPy"
   ]
  },
  {
   "cell_type": "code",
   "execution_count": 10,
   "id": "328e21c8-4593-464b-8ba6-bebd7fab3984",
   "metadata": {},
   "outputs": [
    {
     "name": "stdout",
     "output_type": "stream",
     "text": [
      "[[ 0.  0.  0.  0.]\n",
      " [ 1.  1.  0.  0.]\n",
      " [-1. -2. -1. -1.]\n",
      " [ 1.  1.  1.  0.]]\n",
      "[[-3.  1.  3.  0.]\n",
      " [-3.  1.  3.  0.]\n",
      " [-3.  0.  3.  1.]\n",
      " [-2.  0.  2.  1.]]\n"
     ]
    }
   ],
   "source": [
    "conv_horizontal = apply_convolution(matrix, kernel_type='horizontal')\n",
    "\n",
    "conv_vertical = apply_convolution(matrix, kernel_type='vertical')\n",
    "\n",
    "print(conv_horizontal)\n",
    "print(conv_vertical)\n"
   ]
  },
  {
   "cell_type": "code",
   "execution_count": 11,
   "id": "5f624897-d2de-4a5d-9348-5ada0686d475",
   "metadata": {},
   "outputs": [
    {
     "name": "stdout",
     "output_type": "stream",
     "text": [
      "[[0 0 0 0 0 0 0 0]\n",
      " [0 0 0 1 0 0 0 0]\n",
      " [0 0 1 1 0 0 0 0]\n",
      " [0 0 0 1 0 0 0 0]\n",
      " [0 0 0 1 0 0 0 0]\n",
      " [0 0 1 1 1 0 0 0]\n",
      " [0 0 0 0 0 0 0 0]\n",
      " [0 0 0 0 0 0 0 0]]\n"
     ]
    }
   ],
   "source": [
    "# Agregar padding de tamaño 1\n",
    "padded_matrix = add_padding(matrix, padding_size=1)\n",
    "print(padded_matrix)\n"
   ]
  },
  {
   "cell_type": "code",
   "execution_count": 12,
   "id": "307c1ca2-86e4-4196-b822-bfba2745c563",
   "metadata": {},
   "outputs": [
    {
     "name": "stdout",
     "output_type": "stream",
     "text": [
      "[[ 0.  0.]\n",
      " [-1. -1.]]\n"
     ]
    }
   ],
   "source": [
    "# Aplicar convolución horizontal con stride de 2\n",
    "stride_conv = apply_stride_convolution(matrix, kernel_type='horizontal', stride=2)\n",
    "print(stride_conv)\n"
   ]
  },
  {
   "cell_type": "code",
   "execution_count": 15,
   "id": "6e072a9d-b1cd-4ad9-a957-baf0ec793e9f",
   "metadata": {},
   "outputs": [
    {
     "name": "stdout",
     "output_type": "stream",
     "text": [
      "(4, 4, 4)\n"
     ]
    }
   ],
   "source": [
    "\n",
    "feature_maps = generate_feature_maps(matrix, n=4)\n",
    "print(feature_maps.shape) \n"
   ]
  },
  {
   "cell_type": "code",
   "execution_count": 14,
   "id": "6634d050-1daa-4797-bf91-10f5ea203b3d",
   "metadata": {},
   "outputs": [
    {
     "name": "stdout",
     "output_type": "stream",
     "text": [
      "[[1. 1. 0.]\n",
      " [0. 1. 0.]\n",
      " [1. 1. 0.]]\n"
     ]
    }
   ],
   "source": [
    "# Aplicar max pooling con stride de 2\n",
    "pooled_matrix = max_pooling(matrix, stride=2)\n",
    "print(pooled_matrix)\n"
   ]
  },
  {
   "cell_type": "code",
   "execution_count": null,
   "id": "8150b86a-e7ff-40b5-b2d4-77bb0e009f89",
   "metadata": {},
   "outputs": [],
   "source": []
  }
 ],
 "metadata": {
  "kernelspec": {
   "display_name": "Python 3 (ipykernel)",
   "language": "python",
   "name": "python3"
  },
  "language_info": {
   "codemirror_mode": {
    "name": "ipython",
    "version": 3
   },
   "file_extension": ".py",
   "mimetype": "text/x-python",
   "name": "python",
   "nbconvert_exporter": "python",
   "pygments_lexer": "ipython3",
   "version": "3.10.11"
  }
 },
 "nbformat": 4,
 "nbformat_minor": 5
}
